{
  "nbformat": 4,
  "nbformat_minor": 0,
  "metadata": {
    "colab": {
      "name": "NUMBERS",
      "provenance": [],
      "authorship_tag": "ABX9TyMjLg0eNW2lESq0h2+8mNCf",
      "include_colab_link": true
    },
    "kernelspec": {
      "name": "python3",
      "display_name": "Python 3"
    },
    "language_info": {
      "name": "python"
    }
  },
  "cells": [
    {
      "cell_type": "markdown",
      "metadata": {
        "id": "view-in-github",
        "colab_type": "text"
      },
      "source": [
        "<a href=\"https://colab.research.google.com/github/Tobaho/Tobaho_Discrete_Maths/blob/main/NUMBERS.ipynb\" target=\"_parent\"><img src=\"https://colab.research.google.com/assets/colab-badge.svg\" alt=\"Open In Colab\"/></a>"
      ]
    },
    {
      "cell_type": "markdown",
      "source": [
        "#Project Part #6 : CPSMA 3133 Discrete Mathematics\n",
        "#Numbers\n",
        "#Oluwatobi Afolabi"
      ],
      "metadata": {
        "id": "jFvdzMJbXbyo"
      }
    },
    {
      "cell_type": "markdown",
      "source": [
        "![binary.jpg](data:image/jpeg;base64,/9j/4AAQSkZJRgABAQAAAQABAAD/2wCEAAkGBxMTEhUSExQWFhUXGSAaGRgYGB8gIBsgIB4fICAfIh8hICsgICElHxogITEiJSkrLi4uHx8zODMtNygtLisBCgoKDg0OGxAQGy0lICY1LzAvMjcyLS8yMi4yLS0vLy0vMC8tLTIwMi8vLy0tLS0tLS0tLS0tLS0tLy0tLS0tLf/AABEIAKgBKwMBIgACEQEDEQH/xAAbAAACAwEBAQAAAAAAAAAAAAAEBQIDBgABB//EAEYQAAICAAQEAwUFBQUHBAIDAAECAxEABBIhBRMiMUFRYQYjMnGBFEKRobFSYsHR8BUzcoLhByRDY5KiwhY04vFTlFRzk//EABoBAAMBAQEBAAAAAAAAAAAAAAIDBAUBAAb/xAA5EQACAQIEBAQFAwMEAQUAAAABAhEDIQAEEjEiQVFhE3GB8DKRobHBBdHhI0JSFGJy8cIVJIKy8v/aAAwDAQACEQMRAD8A+RcN4bLO2iFC7d6Hh8ydh9cbvh3DswkH2bN5Z5cv3DREM0R+QOo/Tfw3G2A/9nufURTwK4jzElmNj56aH4HevX54WO3Fcu+5zRo9+qRT+qnGtl0SmgqXM7xBHkcYGcq1a9VqHAmmCuosGJ3DKQbDlse45YYf+mchq1DPqqA7qxQOPTcgg/5cLvbfiqZrMryRaqNAP7RJ/TwH1w39sMsZMjDm5kEOYJCEaaLDerHnQ1b7jfGX4HwXMZg3AhOkjq2AB7jc7X6YHMTPhItjBt+1oweQ0uP9TWqzo1LcrA5HiEaptBsTvE4ey+yWXiCrmc4kcpF6RuB8/wCe2F+c4fmMlpmhl1Rt8MsR6T6MNx+NjGn41wxJwsmeEmVmACGUANE1drIvSfQkeVnCbiubyuXybZOCXntI4d3rpWq7eH3R5+PphlWmigkALGxBv5Eb/nE+VzVWtoUk1CTDAqpSObKwEQOVzOxGE+Yzr52aJWEauxCFlFXqPc+deXz88Os/leGRSNl3XMBl2aYEbEDvpvt/lxTleC5WCKGbNTzK8o5iLCB0rsQbIO+48vyw647xKJY0naGDOI3SkrDS4Yb6ZF0mzQ9B32Hj1EgFqmmbEyJt3A+sY7WrhqiJQD6LgaToBaSbM1jsRpJF7gNjFcd4Y2XmMZOoUGVh95T2P1xRwzOGGVJQASjXR8fTGj4HIuezpfMAMeWTHHdBivwR/hZ9awfl8sM0zQzZAZerIljiKcuhtrsUw8O/08cIXL6jrpmL8O/1jb1xXUz5pL4WYWSFBcyoEGQYBI1bX08zAvw4FjzOTM/2sZqaM69bRkEsTdlQw20nt47YTz5WTNyzzQR7ay2gVqo/u+Pma8T44XZPh8spPKjeQjvoBOI+8hf/AIkci/NWH8Rhb1mcDWtp5Wv6yPQYdTyq0mIpVJcKANRBhQbAhQpibSZIww4bxdogYZEEkV9UUg7H0PdGvF+W4RHLrlWTk5cNpBl3bVV6QF3Nd/l9cDTcU57qczZAFFo1USHyJ8DX88MzKctGTDJBmIJHFpIuohj2tDuDQ7j8MHTIPxXUfMfmOt/lgK2pDNMaajRMTpN7wSNAeBILLYWg2w5zU0UEeWH2qSPSvS2WFxygNu1be88GDWLwm4jmZ80ZpcuXEZbeBJDYFC2MSmqY2dr3JxZwzOrO8hm5AkjQLBFL0QKb6hpHj3oHufltHisO8Ry6oMyFZpRkySqgEUduxF7qLxW7F1kG21t+nl/8eYucZdFFoVAlSNcEksFK3OroGgmBrkhXlVsYK2HOwtEEkjKug93LCKNjsG89/Hv8u+G0WcnuIZtzyJgAzoF6gRsrSILrwIvteE8M0T6lzAkWQsTzV3IPkyHuPlRwdk+F5gLoEkQ10/2d5aaQDqHR4FgB4g4VRdzEGfL/AMhz6Wv0k4vzS0UBFQAb/FfcXNNr6Y3vABgsEmcHyZQMoMAgE6NatlHYqE8TIWpRv5mz5VeAM5w9nlIm0ZeYgFbGmOT97UGIDMfp9cSyucjv/dlAMu0kOY0tFtuKYkHv2B3s4KaRCoXMrHHKhrlyiVEWL/lCMbkm92JvD+CoJ/8Az8+RjuOYIOJNVbLMBxEja2qr5adUFJG1xBkOCREuH5nLScuJotchpHBjV2kf4dSzcwECx337bYnHwR3jMczwaIjSyBwXQj4YevSOobDV07fLC7OOyqOl3yhe4X2LxrfZHBpGr7jem3fDPIzFlay+ZiOnTLIUJjbf3ZE9xByO+nevnhqVA3C1/Ttz67TI+QOEVkqUk8SkYE9ZAIPIxCmDBVjNiNVSwwnz2U+yyRvHId+4tdS1VqdLMu4374NXknmPlmcPoJ0UTrX7wdCmmt/usfljs+huVI1jUMdLZU/Eh2GpFqi/jaeY2OAJuGMjqYVmDgatDrolWv2e2v8AyDt3GEgtTP8ATFvqNxK33/NjbFpqK6gVXhutoaIMOANr2I4GF1YlrkZJY+rqk5DrTir5b/dvau/ZgPng/LcKTSFWaM6reF7pw4NEWPi+Wx9MJctmVY1fLkNo5YnQ48Q47qSfEbd+2GvDpI0LoyuV2flaxesH4oSdpB6XZ9cPy9VTFhz6j0HQduR+G2OZrUhNzyMcJsNiZ3P+6YK8L6Tu54xwl3h6elkqQ2O5r9oAd/Pv51gNkkGYKt8Dxiidxt4KfHuTR7j5Y0sblmDIElXYhwRd7gxyUdjfbp06vBe+FfG+GSlW0iSpevSa90+xA2+EEjcjsd73xpLUvI9xNvvjLy2aMim5HP0mPW28G/LcgFDSpIYUGx94DW3qPl5EdvpjPcTbVKabULoG8apslLK8UoIIUVJX3X7Ovnfzxjs1EVdlN7EjfEX6q7eCFi0n5QIH1PlAjH0GQKs0g3gT5yd/l/3Y4ZjL8lHJ3JFCvD5/jhVDEWYKO5w5kmUAIep3jUX4b9r+Xnir7OIVYkgsdlr9cHm8kjsgUxTSZvdf7iJkyWsBEwY5EYdTqkAk/Edu/L5DEXlWAgJ1N9/yOCEYTIRtHGvf9fkMI6JOG+RgKqY36RINvQ/1+mF5HM1K9RkCxS6DYWgAtvxGxjc7jfHatMKJni68+5jawmLWxdlIRE1XaSCgfXFnDckYS7MRprA+dj5cARiC17V88R4WOYGMjFlTwJ/ryxejomYpUtEMBqUTAXUDqVucCJ2JuOWEsC1Nm1WNjbeDYjCljvthxl+FBlDHuR54kY4p0OhdLL6V+mB4OKFFCkGxjPy1Ghln1VmDIw4Tymb2vB9fzDnqM68IgjcfbDDN+xGbTqUJKPAxNv8Aga/K8VJ7QcQy3Szyr5CVf4uL/PHh4RxHLDUqTxgd+W1/iEJ/MYmntpmdOh+XKp78xbP5ED8sZXBTuNVM/MfifxiQeLWWD4ddR5A/+a/afTCnifFpswwaaQuR2vsPkBsMazgubE2QGThmEM4kJ3OjmKbNBhv4+H7PljH8OERkHPLiPezGN/T6Xh+fZvLy/wDts5ExPZJjpb+f/bgMsahJYQZsRMHB/qAy4RabyoUhgdMqCJsQBHoY7GcaD2b4fnYZG+1OPsuhtYlk1KRXhZNb+dbXjI8J4L9qmlEZCRJbl5OypZq/Wh+RxVxrIZiAhJyaO69eoGvLfbv5DFvs9xcQGRJE1xTJokW6Nb7g+e5wZqIWVKgIA67/AMDAJQrLTqZjLsrMwEaQAtjvGogtfcmJse+xy2UhaDlM2X4gsI6RG2iZF8dPV1r28R9dhjJ8a40kyR5eGPk5dG1VepiT95vlZ2s4Y5Hi3D8sxnhGYkl0kIkmkKtityBv+f8AHEPZXKRtDPmGh+0TIRphq9j3coO/c+HhhrsakIpHOYvYd9/TEdBEy+uvUDEAgrqATiYkE6Z0DlxGBc7xdzn1OWdBl+HxTwaVKy8oyO+3fmLek32/EYW+2E+YEy5WOWdxJGp5Jcuys13GT3YbeJO3fB/9oyNlJ5FjkyJhFgRlkiezuuhqAb1XeyPljLcE4m8E65lwzg2Gck217Ehj94f6YKvUFlkgH0gXnp9cKyGWqMzVCql0kQSWLPAIJJZlB7qRznSLY1OT4XNFkuVIZMmRLrMw3R7Xs7RtqSvXbt44W5+GPNyxQiXmNBG7T5gqepQb2+8+kbDzvFScSysEc3IkzEjzo0eiQKFGruzeDMPD/W8MuDZJYPsrx5fMSvNGjnMROwEZbYoAFKdPiH+uD4XhbRabzabe4sPPAOz0Geq0hiWKSqpxFeInWZtPNyCTIU6cZ/P8Jh5Lz5aSRljKiRZAARqNKQV2O/h3wjRiCCDRG4I8Maj2oz2YlkliB5kMUh3jjAUnzbSNJIG2+23bCubisUiESZeNXrpeHo38NS7qcQVUTVa3zg77b/zc428rVreGCRqB7glQQpGrhpzuSbAiQIbEpOLtOBHMkTEkATFKdRYskitQrwOHef4RHGsjIksXLA5M/OB57WAFVVG2qyRo7ePlhAvDEZNaTxEhbaNzoYULIF7N9DgKXKyKAzI6qRakqQCDuKPbB+Iyg6xPe33/AOj3OFmhTdglB9EEysMJNjZZFiAbQylSTEySylzNyH7bHKW0hbHQ4q96Ipj/AIsOMrLK0Z0Zlky6kQo7x3JZW+WOWrOAFNXYHlhHluLSXGkzNJEJFLKSCaB3ALbjbwsY00PE1lrLwTFGLly+XiEFoqt7pQHHMcncajt54dQZWJvv8/ob+9sR59KlFV/pi1zaUAHNQyMEMSTbY28QnhQ8URFcwyRpHKjBDJETpI26innW+1G++D+HZ0wgpqadj1LJlmBYIu2hgyMyJZuqG58cQ4nE6e5jR5lKGQxzRK8sRJotaG1J2O5+YwBlIkLxpE80WYJCWzAICdidQp186o+WPBilSRv8j9oP0PWMeOjMZbS0lRc7sNtyAdaTFo1JFwSCGxouHRZbXz2ZXaX3n2dHTQ0hvTCYd3Y2RTVV71WLs9xGRVVeYYk1aeZG8UpD1eiURKuwANUCe+/hiyECICQxvLmNZdjLHFGdK6AvM5oYpGW7OCpYk+IvCXiOck5q65jzVPLePNqCi3u3iy6SQN/iIrc98Uu2hY5++/XoZxlZdTmKxcHUouNyYFtoIAiBremFIAMK0jDLhOQkPvpWiRkHNE4ZtZQ7BmBBDBgaBYagG3HhinisNjlqDMqJrCoBE8bG90VUXWnYlhEd/HbFPDmmDDSkhdWLxcqRWgsk6V0Ele10FbVgpuJJK2mRIsyy3oW+WQL6oyk24Ytvalm28McDArp9/Ii/yP2w4lxU12MdCAAD3VhpBm0VESZABuri8JyKZgAN70Il+7VY5R2oSF2CMu+xDFr+uPMxw50cxxguqPtl5W1SKa3YBPDe7jYgWCexwdmY6AZGkeiU1zrKqIv3gZQgdKYaQOZIPPB3Bc7mNPxERqCAS8XK5afeWRalYIBV04JFNW9FpXY79fc/IzhX+tdZcHhE8J684gKZ/wCIQrIJPxSJw3MrzAjwnn1vzX0O0RP7R93mAPJlBNeNXhyc3pPKIO5HeQMCDWpKbUQN6+/GP2h3wj4kyZmR1VonG3UNLqv7WoE80EDu8JK79gwOBuI8OEBAR5FUdYjO0ZZdzSzMurwNqXI8fDDhUI7+/fOe2F+HTc8RgnYQxA27m4nhEGQZklr7xcikiGldQ1gr2/MeO3cNjBe2vApF0ygWAoDHxvzOGPCc3mUJZlsmizCQpSjuCJ9Dna+7Fd/DDw+0eXlBjzC8u9gJRosGt+sUdz4WP1wbt4iGm0wceytarlaodOIbkSJAjzt2m9gSADb5zmco0kwAI2RSfDE80Vk1RLu19z227n+GNpPwBUfXG2pQmj1q7UfQE/Su9YyuZyOiVpT0qLsfT+N40FpqwYrcOTq/4mdukA3xuZbOJV2Pwi3nbcb+mIyIFWwg1Klj/wAhhIUklJai2HDT6iqoxKkUxrt5b+fhiX2crGREdwbHr5jHc3lxmiBJ0CSQIuYERyNrTtYLvMU038MX3PWbC/yvhLBlHkNAH1J8MHQFIH0ltQYU3pjzisrKRR06xbAef9fpgFeHyFdQU1/XhjKKf6SqVoIXqC5a5geQ5FbMTe5HSKJ8RZcgKeX8+fTscOIIo4NT67sbD+u+EJlvfHQwM5pQTg7+xJP3MIqGvnEVcvRhFmIkiTvcx6AbfLBAJSJNRrnrhplH4pG40rm2N/C6uyn6G1r1vB3+0rKIhgfSiTSR3KqdrFb/AIki/H6YWN7RcRiFNLMo/wCYv8XW8I83mnlYvIzOx7ljZxDWrKENMajPXliHLZOt4612FNQJ+AHikRBMCw3G8G4jBsHAMy0YlWF2Q7gqL/K7/LAWZyrx7SIyf40I/UYsy3EZo/7uaRPRXIH4dsNo/bHNAaWZZB5OgP6VhAFEgTIPoR+MWM2cVzpCMOV2U/PiE/KcIrLUu58AO/0A/ljTPx6ZFUZrKxyL2HOhKt9GqvwGO9gcwizS6jGsrREQtJ8Ak/12/PGj4PHxDmH7dpOVpuZzTGUqt6r1r0q8VZamQsqTfoJAjr+MZ36lmaesrURSEEiWKsZn4IEyIjfeBbGE4nNA7KYYzCPvAsWH08a74a5Xg4BD5XPQhvAGQwv8vX5Yq4FwiGeTMOzOIIEaQhPjZQdgL27DfBUHDMnmtaZYTxyrG0gEpVkYL4EjcE337fPA0kY8ZAk7XjbpGGZmuqg0lZwE+IldYGq4DzLG3Q2m/ZbxubOM4hzDySMNwobUD5EBdj+uIZHjuYgHLu1H/DkUFflpIsY7gXC55bkiYII9zK7aFW/3vA4bcZz2cjQCdYZo3sLIVV1P+F1rceuBUNBqSw77/XfB1GohhldNNo/tst+y6WG17md4JwNwSaKbMlpY4E92dMYGiJ5B8APld/kMOuKzyJlSriPKymRREmUfRzAQdetEcqQBVOd9q+eayIy3KHPgn37SxvV/Rhp2xSmVheUqkhjjqw0wo35HR+vphq1CFjmfTf0HpH1wipkkeuCwbSkRILCFMkKVY/FaVZSx7YfZbgzRPyY85ozVWYkDBSQurSX+EmvEjTifs1DNmZHneLUeUUSb7PrQODYZlUdTVYsA104Hz3EM2AqDMQTF/dhomVpDf3S+kOB6n8cTXOmBYGnys6vl9ozZWI76gWBXvZ30nq8cNXQDzAHy/O31xJV8WrTsUao9p4dVpmJWnwkwCp1FVmdQMYumysWZmSPUHkSJ3lfLxgGUgjSiKQNTAferz/ZxHM8PmQJFBLOiyRuXhzLheUg2LsOyqb2sA7HHcH4tCFVy0COZGknMkBkd7a6Q0wArbTa72cE8C5ZdsyAza5HRw08aiGFiP7wSXr6fPppR44JQrbbnf39P4vhVbx8vq1jgSdIYSpa/XQkbupUGwVAVnSZcQKJEkKapRNAUjjiVHh1AaWkBA5jOD1fADq8awFxfgcCjkoU5xkSOM823fUauSOvdDe96INDfDLhpLM7u9JLHJHAsatHpiWS9WtBphBK79LWNV4WQ8RDs088LLaIIZHgMyiNbsdVamO3vDfj2x1whjV7H26bxfbsnLGvRcikYI3MtxNMAFQFZtMMHOhiw1zxaQoGa9npI9DROWYyGPZGjYMBZI1VagA221eOBpMxLCxWZY5S/VcgWW/u2rg392tm8MazKZlGL5+YSLGzMg57sBySo/u1KMkhfrPLB0igPI4z/ADXdlcNlX1aUEOhSR1UFCFQBRf7p8Sbwh6QX4ZH7eRxdl81VrgisqsBYkyCGn4dSgqsEbsFvEWIY08Kz6JpRWeFnKI7Eo8ZF7uVZdiO4328xg3iJQ3Gk0MjMHdjO0TkEkC1lAA1Hvps1QxXNwYhCDHEzEuNcbuoQru2oOAmldQ3HT4XeJZbgCvIURcwNCa2J0FSNGpalU6BqB2dumvPtjiiqBpj8fj8emO1KmVZ/H1Rubw2xiSNWuJsoMQYgqSQxvB46R9JOXVVZ2CzjqKEIWToklXbVciBh01fiAOLxad6jCLugzEbJLIoSrDrHHrWya3DbLY8MFwZV+W3KzR5MTirOtFdFV+sik5YY0rUQxB0qfGnN5bNdMrpA2q+jlqFBddbM2oBb0pbOGNbAkdsMaQunSfp+MSppav4oqLfuykdLsCQ3ItqOmdIIMAkZOeW1UK2wBjBaOWEolUsjWG0ByCOrp6aBIGHnE83oUqx5roaLOzpCun4RqYvb6iSLdZNu60oxi1zckNjQUYkdcUhFiwwAIZkNjsR2sHfB0PGEaOneTSoACkRsW3Lbtyaf3lHS9eZJNV5K6gaSY88FX/TqjOKtNJXlHPa8BmN+sif7mGxNyXEHBjcI8jHYTOgzDBh2CujKdPxsbB7L8Q3wbneJxk6ZgRf3DNqJvfq+0hUCVuCpO5G5wj4bJGZL5kMdiywBhdeykIQ6obsnex32PbBnGGBoq50SG0Xnkl+7LIyTAowpVGzX2B3NByOdE+/flhFWgqV9MQflFrA6rlQIjXpJ3lQeJtlCYoVaE7GhS30iyBuofU4awJI4yrdZNbYZ8PzJROvlQsQCUApyTvqpdDjWN6aiNuxbGU4TKAwMnMVVPhAwN7hliaFtIsB789++5B3H84xQddRjuAw0NRJ0lnjIme72JWtC2tiyzWNOrCHol38P4tpP8tBtzJG3w6RubwqEuQTrRATQ3jBYmxa+7GrYmgZr3s7Wa+Kwa0Nb2PMfwvA2XdhDrQyHcopTSQLI6PcSKX8CAnw0NtsFcO4g8iaXvUAp3BVQDsT1ItHb4QTfgTizLV9DQdjhlJmVi2oECPQW7C3ewja1hnsjA0Y0MRZNgeY8f54Dz2fHwpYYPufDy/PDrivCtThjtQ/Hft/XnhXnoYozrKegHhf/ANY0K4daOmmQqjmSTw9oFiPrjeoujsGNyeXfEM3klaxqJkAvfx9MXSzvrjZd0YAV/X9bYqy+djYhyG1gVQBN4Bj4jIlqPPsR2wipmcvT4wYDGZW/w3Gq+5khhud4sYcKbtY8uvexjttGLc5mmid0SgLv5WML/tch+8/4nEJXLMSdycT+wyfsHHz9bNZjMOxpFioJgCbCbC2K1pogGqJ++Hy+22cW1ZlbzDoL/KsIlzFy8x1DW+pl7A72R8sfQGU5zh08+aiRJIgTHJo0FqWxv94E7bbG/MYzXsPwNM3mCkhIRE5jAd23Ar/u8MIqJVZlGokG4n9sZlCvlaKVqhphCtm0wR6ERvPZgdwIOLRxXh7j3mSdT5xP/Dpwu4r9iKk5f7Qr38MukrXjuL/XDefjvD7KLw8CPtq109efbv8A5sA+13Bo8uYniL8qaPmKr/GvbY/9Q/PBVp0E8J62g/j+MdoaVrorCqhMwC2oGBJB4mgxeDB6Yo4dwiCVAWzUUT72kgO2+3VdbjfE+I8KkSIn7Vl5UWumOct40Ontin/01nKsZeQj0F/ocAZnIyRkcyKRL7a0K38rGFEaVgp63+u+KFfxKw8OuCJ+GEPyIg7czPrjVeyuVGXjGdlzLQKxMaCNNbPW5sbjTY8R+G2D/aPib/Zmlypg5DvypDFDypQSOzWTYIPxDzGJcEgaPLJHm2yQhb3kUWZJDi/EEfCDd+Pfw7YU+2c8iBMuIoIsufeJyG1LJ4atdAt+A8PTFjDw6NrW9ZPXtjFBGa/UBMMQxg8OgoJsJUMWE9SAb+S/hXFY1hfLZhGMbsJLRgHVh02L2IodjizOcWh0Q5eGOTkJLzZOYQXkbsfh6QNG39btchluKJGoCgpp6YpBHdV+wer+OM7JxBucZHghJA0lDHSfVRVNhDEooX7jl+2NFEStWZ0AaCWhakjVEBisAKT1nlzInGvbjUYkkmbOLJljrC5XQbIKkBNBGla26/TC32f4cGy+qGKDMTmQh1lIOhaGmkLrsTfV/QSZ3iMUikLlo438DGzCv8p237Y2MDRokDBsomT0LzEljBlcgDmbFLdyexU188PR/EaSRbz5+fTy9MZ2ZonJ0FCK1yBBsIUGFPgwSW1WlgWIGogC6bMcGgbMT6S5jijVmSDrbUaDqhPdFYm2N1gfiHD5Q0SQPORInMEMzAMulyBa2FN1Y2wHkpIAzPzJ4n1HQYwDS+AvmK1+eK5Ykldy+ZF2KaVXJfbzGojy3wk6SLAX6EDv/F/rjSFPMLUlnYqoFijtJAibCGM8WpWLcrCTgzNnOSMuXljtn+EvEobbc6XIHYdzfbHvEMsaUfZoWZtkfLOzAkVahVZhq9PW8D8PR0l6Z8vaju7nlsGFMtMu+xojDnhuYYyEscukEMZ1CAFl970GtLatZH3r6aH1NF1AzO/Y2wipVag6+EFsCYAdCWOw0huZ0CCGFyDBsVed92OSPtsWojVHIRpKnuQo06vw3xTKmn3aZpgG6WV+ZGACPvDcV4Vv3w7kZ1zJSOJzHFHoXlFtaCXr1hnFh+rtW249cVxZ0tMWMGZOhBCshi5sqkNqttQC6iGrzAqsdNME/TY/ew3ticZrw1AIGkjUTqS5MaWKkO8hdJsSRsNXOMnEpC6ofssg6GfRNtIIyNKe8bQvgdIXeu1WMWGdnkJbLzSLGGUM0azsHbSw1AaUZVF6U7C737YuyqQusuYeBVXWX0PGjM8SgBgi6gUOoOWZVpSfi6cJ9WWWHwD6P+ZzQ+rz2j5QH1PzwTMVvPf5bcp+uE0qK1SVVDqWEkBmIJBB1f1NOlQNO0aSARyw3y3GYzI+ZkEtnp94HIaLSL0KLiDO9tpc8temgcWQcRjESqZ0aWVlYyOwYxM6BZCBpAi06QqnUewrSNwhyrxswQZidVG9MwjGpd0AbWyrvXURthukSuWlOYLKlRlnMMgXUoZiS4AlAYaRpWzR9NXkqMwtHvyOOVstRoNswgSCQeuhVKtT6khgZVlkcRgrPiPEo2aKJTByowjlZJBVqHRQtM8KmusgbEkar3GD8vm2089o7kYKkKjfUp6NOsIsSF26iU6tI7CtWM/FkA0UfVlw07DfloK1DcKynUGWt10gWaHqT/ZbM+ywKIwDREqlC1kGQJIeVp5dltQA1C7PYlLEz7/OFNRoqkA+Zg32mZKWYkLNyBs0YnDwtmfQ8s3Wup2OZBSUsGAF6QxLlDsAxobWKbBLcOV9D25LtojEkSuVUkG2XlnbRqk1FlOkdjvhZMsoi1Ekc+iankXUrLqCkv0N0dN6mqwD5YtjWVgWuRqGhUaWNr6lTcGMq/WYxvR6e5+74EGxB+R/b3PW5Y1NiupCsWG69eYZj/dubKQsQFIGGmZy8Cx9SoY4RRJRAecEYad7Q+GoAS9RAoBcUnhWXaxUAO8kpRiRGOoqBX3SBW+kUCbBePAU6yiuqUqqa9VxMXPU+xsFwPePW/n5HE4Z50UKQSB7x/dobIJ2pZwGIMTGwA45fleDsTGm3lgYdBqFXim8EzHmOfO5N9Mi1wU4UsjM0SOANzy5I3paNVTXqOk9Bb0vtbPLcKzB+KaZAq9wqksLAWtDtq2IJv4b70bxEcQkWleNCT1sDC279lXUGYMQdtZs9Avq1YubiU3UAmliX3AzA6iNMr0Ir70g31I216Dpx6nTS8e/qMOq5rNHTtfaQD53YMd+4+64uz2SnEbh5MsEWh7yPQKB3Qb1o1VW251gadNYn7LM8alpfdw3QeGbYHxNamAooluKC3v3wZw3icaKn2jWAgv+/IugB8MujUu1aDfh3N2o4lxmfMF5w4VVJQhACAl9JJ5ugkBr3A+J/XHajBSCJnE6CrVBoMqgEi+25MQFMSb7g7i0G77jKE6jpAA3Cg2CK7qaG3oQPDGJkV50Y3VOaX/X5HD3hsUyM0TyahoGi6HSdtvHY7V4Ar54WSZkiR00EgE6dA8ex/XG1l3WtRVakgGVI+lyL+W8kjGjkx4YIUhogg9vX/uJvgXJ5V4kc7a62Hc7YhnHS45JFvUnb12/nirK5aZSsg8TW/8AHFnGcs5GssGA2IA7YWXZcodFMjTEBoI31ajO/OYEi3TGjA8W7C/MWO0R+d8CZniII0qiqPT0xA8Ul/a/IfywKIWPYE/IY7kt5H8MYL5rOO2rUw5WkWH/ABgWk/PFYpUxaB9/vhpxj2mzOa6ZJOnvoWgv4Dv9bwR7HZbNvmA2U2dR1MfhAPg3mDXbvt6XiHGPaiTMJy3jhUWDaIQdjffUcMPYvjUMUeYy07MiTrXMQbqSCu/4/riZCrVgS099r4gqCpTyLCnRAP8AiIYRIkwAJtJjnAmbY1nLZm/u+Dy5nuaJ1Fv8NEk/OsfPvarOZiXMN9pFSL06aoKO9Dc7b3dm/PDfLcBySOJH4hGUUhqjXrNb7bkg/Q4Xe1fHFzOcOYRaUaQocd9Piw9T4eWH5p9SXtfYEHEH6TlVo1z4fGIPEVZYM2UarcU3gSPKxWR8VmX4ZpR8pWH8cV5nOSyUJJZHrtrctX44dD2qb/8Ai5P/APw/+WF+a4prlSXlQoUIOmNNING9xZ+WJmK7Byfn++NWh4hqBnoBe8qT5WHPrsMb3+yDm4opM1lZ1kVFQGOWNTIo7dEhGk7n1xlPafiTGWOIQGFcsNCRyCzsQbbzuh2/E3hjxnNZLOTfaHzE0RIGpDFqIoAUrDYDa/Hck4U+0fG1nzKyotqiqqiUXqCXuw8bvFOYddNjzHS4xm/p9CqtUFlMAHhh1WmYFl1MQ0ywkbC+2GeZ4xkpJxm5BmxKCj8scsrrUggBu4Tb0PfC/h0s088zx5WOdpGLsrRlwlsTtuK7/WsUn2hsf+1yf/64/ni/hHFYhl5MtKZY1eQSB4QD93TpZSRa+I9fljniq7b9eUSY7yMGMq9Okf6Z/tUS2vSkyQAukwsAwDqNr2OK8/KyyxrLk44mV1ZkSNlLi+2kk2D22xquOZl41nmllzLRzI0ccEmXdFQuOgMW92uj93c1eM7mPaCNZso0SyOmVqjMRrfq1H5Afd8se53jcOicRNmnaeweeV0AFtV7E2/gDtWGLURQ3F7j638sTVsrVrNRmmQOe53e4uW8M6RqmdV9IaRg7hXFIUiiAljjRQOfGYdTynUb+4QwdaUWw0484JlhJCzxRwjTKzSGeBpQsdKVVSqsNhdrsxPjjPrxelC8jKmhVmEX87vvhnwz2hREhDHMK0G6iJwsb9Wrr8fGjV2KxxK6Tcjbp5dfn/3hmbyFU03KIZZtpUgjja40gHiMS+ogaTMJGF8pypllJ5wQyMYwmjZL6dm3+mHnsogCyvC2khwCZpJI9MNWTcRHVY89qG2M6vEyCx5UDanLdcQNWboHyGGHCePCJQCJAUlMoWJ9CMTp6XWjajTQrwJGF0qiBtRjnyxRnstmGoNTRWMwPjBmPMc4vfmTtIN+SgyzmR2dHJnbeeYowiO4ceLubN3fYdO+F0cKBWdZZlAYgVGa79NsGABIrw8cDxcR0iuVAdybaME7/wAPLB0XHKh5VNfLaKuZ0UxJ1GOt33735HwxzXTYch6HDDQzdEkUyzLIABYfCJvDA9hYA7bwcOJWQZWNTItuiLrLRFus3JFQTnKiamJYt4afvYrlyql0T7XKadtCnMI5YKtxspB0IXNqAxwv4jxp5ECshq43qRi0Y0LQEaFQFBvcWb7Y8yeblSXaAq5jKaYUMb01brQu9u9Ha8NNddUDsOfLGf8A+n1gpdlUHjaCUkkgCZIje5khZJgJsLM6zLKdOYSwqgmX3hHiVtI2VipNEj+GGEc2nJ6RJGOZe90vvX0uukSDqAt7MXSor9k4UT5iV2lk+zWL6i0JcpSgdTEXdCzfjqOItxdpI0y4TVXLAFlwdOw0odlLXv5/XClrAE9/Prh7ZJ3VFAXh0lvgsAvOEFiLmS2reIwZxGAK4CtlgKJ95FGvY1uI9QN1Yvwv6lZUD7JILgQyuVvZYupljGr72pQDKuwCrbmzgXhzZmOVqgAal2Ucu9yV3UgMGNjT96q+7jnnzLwpHyRRK0PD4mKnlk6V1HV1FQCBhocSTB+R++EVcu7KELIIIvqQD+4mwUEfc3K4tbh4MjD3ChIx0lWGnUzbuBL0AabJ1dnTptth+BDW8Skxad5NMbsWsKa92SULAkGtP3d9rx2XbMIkgEcYVhuRpUN0HsEYLINBLUA2KoGzELgqiFqKkRqBVFCQTDRsHTYJ7GvE44CAQdJ+X8YPTUKMhqq3Tj7chI69uotgzPO5DyGSMiSSiec4DBWK7sCqNfLJ+EUGUirABmVZ2iJ120slWJpD0IC1Bt2Y9EnSD/xQfFcLMjlcwKkVYhYJ7BSAUY7lAJN1uqN4MlyeckAUpD8bEDSW31vfSQy/EW+EX21HbDEY7wfphVWlp00y6WvOo2gEC19gq8iZIAttTnAy+8Mg6i1VmtmC7ba00sL+flXk3zYkV00SDusbe+UEseosRLGdRooNtyBQWm2TzZbM6ELcnSiWLF0NKn7ylV2C9SkLe16jg3gyZpnMqSZUF6Fk2dig+JbJ+794917FlOG0zeIOAroGTUzJaRud5sI6AbRysbkYb+1meMeXaI9RbrSpVICIFKk7rICWGs0X3rqbthFn5EVirMQkkfYvXiQSCWFkoQKApqrWaYkvjb5mI6ZDBIPs67xHSALk70K1bncV+uFOdEp5IbQjcvYmRxfwd6o3287332GJ6rcR/bHMjRimtxB1Tff0gf4jlf5YsyXGGZ4dRXVRjJtb3H/9hJ3RTbDv9BhvNpthYsk/Qnq/jjI5Z2LopZK5g/4p/a/xVXrWDs9kSW6Jo2I7jW234sx/P6Y0/wBLruKRKrqM9Y5DrjReggqQTG/Lvz6zf2MOJZ1FtYpdiPWwf44XZtRGkragQ9lR6/1+mPMrwoaCr0Xa6IN1tjzN5OI64lWnRLB88aztVZJ0gGLAnZiDbbp9ed7Enhq0Ak9bchHfrzwvfjUv7o+mFszszFr74MHCpSLCEg+o/nihsu6nSVojHzWabO1I8YORykMPxjTprRX4YwPj1Rje8cyGXzHDvtyQLl5FaiEFK41BT4C+/ersEYr/ANmcSE5kqEbMrHcKv2uj/wCVAny+eIRlv6gSbHn2xG/6mq5Z6xUyh0lZHxSBE7RcX+mMmeE5ir5E9efKav0wFWPoGT/tp5/+Km+/MAVAPUdiPlZws9tczAOJcyIBlQoZAvZmVrYeXYAH1vBVMuoEiel/fzxzL5+o9Xw20NIJlGmI5NO08j8x0AynsfnJFDiIqp7a2VSfoTf44U5/ISQuY5UKOO4P6+RHqMbT2jy8GdmGYGfhSMgUkpOuOgAQE+Yvw3OE3tdxaOaWHklnWCJYxI/dyt7n8PH1x2tRRVkfcGflheSz1etUVSBcHVwuugxIBLWM7WA67YzyKT2BPy3xflshI8iRBSHcgAMK7/w9cMz7WZuqE2keSog/8bwCM/M8qSa3aUFdJuzYPSPx8MK009Qgn36nF6nMkElVFv8AJjflPAtp74dp7LxGQ5dM2GzAJULy2CFxYK67vwIusB8O4RFyXnzLSBFl5ISMDUXrUbLdKqP69dmZAsmlnyEGek21JC7EO/8AzL0o5J7m+/jeEfswJcv9rd5ZVWE6JI4gjM7ait+8UoFBBtqvF5oIHFuvkPPvjATPZirQbibVwWgAtJ0nQVUDSxKhTDEEXIBEgScAQzZQJI4hzVUZAA69Wkg1sb8D2N4vz/AohHmCIczByfheZrWSmrRui0x7jST/ADt4/Ckpy+aabMaJXETc/TqUAglloBdFE+HfDXj0bMmYSePRBEjnLyvO7l3GyUWkIbWPuhdrx4UkhuEex9BOONnKymiXduYI5gh4IEMoqEiEIgmOICTgDL8BgaKIlAYTBzHzPNoo+kk9N10t06KJxVwbKQGOLbKFdzmDM5EqjUb0i7A0EUQDZO+LOG5vLiOE6sosYUfaUljuV2s6q6SSCK0aWFflgXhfH4o40USZiHRKzkRBffKSNIc6xZAGnfUKwf8ATBBtsenb6ficCRnHpunHIYX/AKnLWJPxHV8J/pyo4DAAOK+GNlwvfLipiXOYjLM0W2nRQO9arGxujeFAny4Le6LDWdNyEdN9IoDvXjeGOV1SNmJFTLRxmQyFp4wSmtulR0kn5AV3xApmY3aMTRoGqTUJFjVg4sMpOk0R4AbeWJ3EqsbX5D8nti6lpp1ahckEwSGcjpYlUi2oCzMYiwEYb+zWkwqNJFyOOXcIXMk1SXIwckWF6VarHY48i/8AaaCQH5EiiEyaQwUsTNy9FcwaW2LAkpt5YU8Pzbx2vOg6W1qzrzSGPdozpNHYWb7jFnD8w7JJAHzUikt0wR6rU9zZbUobxWvn3w1XAAXsRy9+7zviTM5cg1KjxGoMDFSIhjchYN233A1KCnDpdZ1nKQuhTVzcvIyyO5jSxSaLRVVDr6tLMRtR2xbmNpUFMIzHMhSUPzXoozBdUoJD2NJDDs+x7HJvNqRY/wDeHKj4TJaIfSPRt+IxfKGKrIMtS7U0nMIYHYCywBWze36Y82YnYe/lgB+leGeJtN2A+C5jhIlwRuSoALDY2hsMs3mnEsoDxHfWpKSMyaolBrRqW1UBTqLbpeFOXzFcq5paVozpA2QAi6BaiQO3SbwdkM20b1/u8eoA0k2gAoTVmJ2O+s9J716YEeZqdWmQdROmNTTWdW3SCBZrftXlWEVG5++vXFWUoLBQCVhbiG5QYim4FybSJMmd8PIOIRCbUukjlrpRVLRKVlYnRpiDBgragwXZnazvtSmeXlRjl5phFKpvSwfplJpnvTp0tQXYhz38cLeHza5I7kzEhY6DZNAsKAsS6iNemwNNj1rBeY4Lqdgo1AhSr84aCzdPTtIT73V3YVtqrxcHYjUPfyn74jbLUaL+G5I2J2vBIji8M7EGI2/yIMlSZ/VzFMco1xjUGPLB6XSgGm6Buu9t8LCtLVhZnIWKRyPoIKqFMkspG6au7UvYdlJo7HesXf2MRy3KQqhOg6jL8R1eOpUL2hXSrbEi/MVZjLoquGeAMhsdCE0QGo6nLE9ZTSA1Fdz448wYi4+3n0w2k1NKgFJjIgTBg20bqxI9Oqxa2LcpxOliX3AKOQKayLDqSvumO+oGyX+FaGJjimhguiBdMjHToktA2s7Axgj4wPUImwAwDlUOo8skdpA/JjVdQI+8zKFAOjt3J7eb/ikKgA++AZBS60jEbDXosa0Cv0XZ1AaHofsGmpl9/vjmYFFKnECSZmCRBN/7knmeRmL6cLOaJQEZaChgujLEi+mgNQeuldWlQu92RZbBXAeITqeXGsgvcXAiDtf7Wncp5b+fap5lYVUSEIVcBwJJmrWDZXq1a+kqpIsEhrrZVo4dlFEom5cYjHWCIpWod9QJVVNGvhGwvbbDADO/1P2wPAUJ0wOUgETe02PoBJ3jbSbxbMvPlWlaWyr8k+8RmKsBo2iZEFdfxX97wwJLnAXeUEBY0ruCSd2PaStwFF9ydrsAnUfa9QMLdETgFSVSMCv8fXrXZlGgfAg31ajnv7Kljc60d1U82Qxy9JG5XcsoroHcGhp8xaqyMGtzwjKVqYUq0CJIE8idgCexAG8sAJvEYOHm8vGWIYIXZbPgoF/Vn+L3imrG2pcJ/ajK8uYrd3v47fd8T+7e1d/KsajJkFw7RyK8v93fTSdxqCto31l/Draq0nAntPkeYpIW3HY/XFVPJCrRbTvy9B+R98V5DMstYFzuL+ZMnnyNulo5TjL8P4oYlZau9wfI1WCm4whUtpPNKaCfD9cKJYWU0QQfLF2Y4fIi6mUgeeFUs3m6alVFlttMb+xjdejSZpO5774inEJAKDtXzxBsy7Gy1k4prHlYgavVNtR+Z/fD/DUXgY3/ALdZTiLxh5RHyE305ayq+RIIvYePYemM37IcJkzOZWONzGQC5cXagbWK8d6xrsqi8NyWYjzEqPLMtLAjWBakX9b3NV0jvjF+znGnycwmjomtLKezA1Y/7QbwVbSKoZvXtjEyDVjlKlPL6eGyNpIDWuYO5G03BO/M41ub9oMklws/EMyBsXOYam+QDi/qMIPbDgsUBhkgLmGePmIH7jsa+VMO/rgyb2iyF8wcOTWdyGc6L/w1p/IYScd41Lm5OZJVKKVUHQg8gP44LMVFZTJk8u2Pfp+SqUKq+GrKkHUGZTJiBAWRb/K1uW2Do8nkEUGTMyua+GGID6W9jC7ipyvSMuJhXczFN/LZNhh1wrhmXiyYz2ZV5dchjjjVtIsXuzd/uN/I3tfmctlszkpczHB9meErRViUe9tO4HV/Nd96xx6ZZLAAxPOf2w5K4FbVqqMqtongC6jAiBpJgkCYN7ycKI+OqqgLlMpt4uhcn13OA89xWSR1chEKfDy1Cgb34fLF3Dpcoi3LFNJJv0h1VPTcdePOI8TSQaY8tDCLuwCz/wDUfD6YWzEpdvT2Bh1KjTStKUWmYLEg+ZEsW+gnth5H7QvK4mXIxSTirlCu41Ds2gbahXfC3Jvm0zDe8MErgu5kYICC1kte3xeFYEj4vmiqxJLKFApVjYjbypdzjhw2UtG06yIruE1yqfE7m232Fn6YZ4haCJMeQ+33woZZKOoEU1DCACWeQOUMRwj/AAUb87YL44jsOZNnIp3GwCOz7fPSFHnigHJhRYzLNXb3aL/5NWNU/AYubLA2TljijVz9rd2FaVsPZ92QT9wefzxl+FCM9Iy0mYlP3dTV/wBKDV87ODemVblfzP33+uE5fMpVocJeFgmDTSxBidJAUCDI1BhN5EQPleIrGK5ELm+8mptvAVqC7edYIyOYzRdlgUoz+80xoF27WLGy/I1g7LZXNpmREsQy8k1BRopQK7gnUews0bx7nuGq5WY5oyx81IpnIYGMMdiNV2uzfI+GOLTe29vT38sHVq0TLkKQwBk6qm+wgAqASCAA4kjhE4HifMRSkPNHqcdfNdZBQ7B6D7+QrFGfeN5dckzy2N2jWiKoAAtQqvQVXbDjinDoY1LmJIijrywJ9fPXV1bWaBXq1gDvWI8V4hHMhWIPNbh4k+zoOQAb09PxAjoqq2vBNTtpJ9N/2+x+0ro1wxWpTSxGksAqgARFwKhAAYb1Ao082GgIA8fM93EziqCyMSSb7+7C/LTjQcDSTmGOTL8tJE1aVWRGJiDMNA1amfc9N7/5cKpzM8YkaSNEHWia0Qn/AAIm9+HbDGWPLrFzNaFgiOG51yvJa6kaP7o+LqHagdRvHKKwZ/YW+v3GPZqorAICZPDIL1IaQVuWUSLNMM0A8gTgnMZepZOZPJHzQJhGJfs18xmDalk1AOpWtNnUDerEOGcMy8olQVJyzIDISwbT2hMbahEuo7kSEXvW2CuLlZYxMgiZy7SqkscSsYQGBUIrHmhaJ1NR6DV4XcPzGmVGlfLtG9K8cYRgE3YEoIzGNJPfdtz3w99Oq49fPzP7+mMzLeMaJFMlXtYSplbRpVb2EE8MtqktClbhKqIrrlSphYay8aIoMalZFDCnZixvqsqRteBM5P1q/OhsqF1F+dJtqa2YR7nfTY8At9rwZx/h4WVcw0Ukgn3qNiVMjttT8sOQy0QoA/dY9hfwy+XJl5BocL0KrK1BnJ1mNpB1oezltVaNjWAuSVNvfaPvgg1JUWtAYiZ+GYPRSzkgG8mmCTxk7sQ8rCF1xynNWTqRdMq2KvXGgBBYSftUvyOGGcMkkKZgK4kjBDq5kRtKr73UyydXvCH35bVezXhLxHiWqwXpxI+8CBUYk0zl9W+sIDstemLOG50qkpjgkaIj3jbP2OqyTEYxt3Gnt4jHBUWdA9/KcH/parKK/PciygkxNzp+OxsIJtKnBvBtLLJlWMFy7oI21DUdCG9TU5WtQ6ifiq+2AoGKSUROum1k5UPLVRRIJKlTpum7IdJO4x5mcvmI3B0wRdZNjlDQd20M53sKa0MeoeB3x5l8o07C3LqtApl0JpQaJACiIencnyvHtZsIM/L3Hlhq0lIZi6lSLxDm9rmDGrYnWIaBqPM/iMSwdCF1Kn3bvmKFArqS+YtBd10qpJBQ2MDcPzsbI0UzQ01yIad9DnRermePdtm3OsH4qwNneHqtH3hWgEaSQIgsHYF0UsoryUeHzM4WipJpkhjdHr3aRyyMV361Yggr1DcHy2sCzBctEW99IwDJSWiCSSd+QiN5BLaQDPIQwa4BnFGT4xGEaJmej1KYo1QK/T8IDUbobkA9/wBo4Iy2bm5JAjmO/d5TZJrVqoIxTf6Wd/JrPGkw0tIyNpNOZRHzRa2jbcyhbD+7A2JAXUVwTk+GI8R+A6ti27URd6rLGdVOqmO3QCAB14Z4b9ff1wh8xQA1GnB7lreihOw2M9CZGM7wZnaoQ2VjOu17OwYGrQajb+A8T4eeNdw8M2qDMySE3rSTpVO3ZATb1u+gL+ztsMK8vw9EuNn0PVry5Kdx4VFCF1oWB8S+zHbY4YcD5mp1MppTsao/FX/FMkh/Y69NVQEncNWna+J83W8QswjrMcxzDHiE7m/c/FAPn4NpBYkSBh8Z7sN+kD4Qm52727fX51xbNSoTGdl1WteXhR8hj6FxSVgj6yAxDWRflV9W91Xfyx85y3ELqORdanYX3HyOKo00gpbSTsfwf3HPGj+kK2lmIDRH525W/cCBj3I8VYsqSAMC43Pcb4Z5hHKz6/hPwX/D8sXZvh6uoHwLGe/joC7/AJn8sK+NagqESO8bdrrw+g/PFH9SlTPiEtH7RB5kDrucXq1OrUGgaZ/Bm3KTBww1oJFy2gaSnf1on+GM5mMuFdl8iR+Bw4j43Ds7IeaFq8J3zjEk7bkn8TeJc5Wy7gaiDe0chaxw/KpUQm0WEzzMmSPph3/6IzIHMmeGBe5MsgB/Lb88IMxCkcpTWJEVx1R9mG11+mKZ5mc6mYsfNiSfxOKsfOVHU/CPrimjSrhi1WoGnkFgDvMk/M/iNSONZKIe5yQc/tZg6v8At3H5jAHFPaWeZOWyxRx7dESADbceZ/PHvCfZySZObzIYowaLyyae3fb+dYNkyXDoPjmlzL+UKgJ+J/gcUE1WW5Cg+Q9jGfGSp1bK1Sotv7nIPcsdKn1WOQwJwX2nny6NEoieNjeiVdS36bjB+aXiOdAUxFIhuFCcqJfXfY/nhJkOJNBK0kNA7hdQ1UCdu/iKG+Hn9nZzNxibMTiOJjs2Zm0Kf8K9vrQx2mS66JJ7fycezdOnQqDMRTQ/5NJM9AoFz3DT0wjyWWi5jJPIUVbBKLqsg1Qr9cGS5nIoDyoZpW/ancKPmFT+OKON8ClyxXmFWVxaPGbVh6H6j8fHBa8MycYufMmRv2MqAf8Avbb9MAgYSIAjmff4w2rUpVNNUO7AiwWYMbnhAO++poB9cLuH8WmgVlicpq3JFX+JFj6Yu+w5ub3hWaQAWZG1MK77M3f5DFbZ5EnEsCaAvwiQ6967m9vph7JlpJ40mzmbMSSf3aEM5YD73KWgF/ex2musaZJj5fPBV3FJxUVVUtuSCXP+0Kgkmwvqt054b8KSZsnFyI0zWqxKJ3LpER8KhGcBBW+r1+WFuYzmWy2azCISYpYwjGBxaNsxCMdioNivp4Vj3g3DVy+aaN3gfXBzMu8m0Tsx92WH/VsfH6YK9o4pWywMoSbMLLYbLoH5aBd1kdF0/FVL8jiwyU1cxjDVqH+pKTKPHNlJ1NKtzX+mREgJFxBNsKs3nXMaDKJmOXA7Tc192DAb7p0Ioq6vf9dC8P2mGFZVkaN4xM+YRlSOJtB1WFQIShG+s6tzWMmsmczdjU7IO++iJfn2QfrhlwCZIDLCZ4NbIOXLeuKNr6u4rUV21Uar1xym0mCLHrhuay3DwlfESTA1MwkiWZhDSCdcBQN+BgMJMvnYkQBIEkk+80pLAn91Fofjqw14NDMwaF2zSKkfMEMQKvICwHSDWoCyTd7dhg32ly2ZhKzxKR7lRLMkapbXZfR8S2NI10t4Sy5Yxnmy5hGlFEKJGdz6F1NJt42cBBRr8vQe/XFHiJnKYKkDWbSWqMGB5A/ABJMiCAw+AnDNcrBl5GjbQGaNHT7TFr5d3qjdBel+xvT2/ZvAUuYKyMctGkccknu5ZIlGnbfSz2FTuauwKwZxrj0TqxBLMWDRJyI15BDX8Y+Oht+944z7PPmG3MsrnsN2/LsB+AwNV1U6U+mPZXL1aitVzAuRDa7iwEHSVWYtdmIBDFfi1HQ8N4mYhLC88T8xTW8hiDO3WCygSDUt/wB2dNk3hVm81HG7rCkTKx2ZwzkbCwgY1Qa6LC6q8HcE4NCxMcrDm8wKVMyJSkDdTpYOwJrSPIbYf5fJCnyrxyxssb8s8oVJTUJVXRzDN1K2kN4b0NsH4dR0Gw+pxNVzGWy9ZjxMTGqCqqRvqAWJ3gTZgZkjiOWXMzSoIwqAMADIVVS6pVAytQIWl8b6RizJcMgKssuYRXU7FZF06dIIZeg806rBQFe3jeDc3wxjMIZ3nlleuWAdIphY1GT+6I8U07V64cxurRBZXRGATkyZeeMKCnSxiL6VQjbWuq217Dxx5KBY8V/O/v5nHsxnvDQClChuI6eHc7iRLCLGEGxMsFZRlocrQBWEJVFmzTgA2D906Nr7Vfb54P4RnSjKQA7EkmKLL3yyUrUBSkMOkHRWoff7HDGPg0kc3UGMquWWea2VtB1BUUDUzuu+lnvuR2BxdxMq+mNmk54QhhDJKxe+qNWDB2PeissiaOqvUqdIrxD39sKr5tap8ONQi5uYE3N9TQJB4WpsIghTBxDLzROqwP1QkHSsjBnjJjoUlySRxBlFdSlSdyRi7IJGpA1uD/w5QgWE2odY7jHLbrSjQbVY0kHbHvs9AAW0tHAxYRhVuRDdFdcusgvr6dCkEeW+LuJ8LjYtKypG5LEmX3kVHdjvLp6G9B32jPg8TuRf32xBU8NWKqTF/wDcex3O+5ZCyEQxHIC8SysBcsQnPO8iLEJXe+saQYxpkZdW7R3tb/tYnLKjgwBXb0eQCZTQB2iVndFXSxZ/IizgLJ5FSVjkkddtQimNIST3SBGQqL3GoiwaC7GtPEyQqqu5C7InwFL8OTy/eD0vwNNvWCA3tjjvo0RJPLyFgVO58rFQCpaQVVbwXKCNWcnRZ6lEaJG1fCJFa5N2JFk6tLqdhiXEuFoo5gYqTSMxk5uxb4FZ2IUHsQyncVR1YGt+czLE9WbeUNHY7WhoZmQhfMvsSukbUwzPB5paRWKrVjlx8sr5AsVeQ+oLozWe/bB2xwFg+skTubkzfY7wb31aYExG7CcNiiAuWQaSTqWWwpI6ekELEar4uWDsNxXU9g0PoMZ0xx7CgwXYUNNUCB/iZP3ezLdkeBxZdGsRG92Ok3fibZi301HAeczassioKokE9rOkfXxrB0l1m2AZlrMSkx1PTuBz63O8yZsh9quJNEQRRDbUfTv+N1jJ5vKhgJYfmUHdf9MOJcxHmidYI5fiDdjt39ThE8py87cs7A1v4+hw/M6Qo1/Cem4N7jH1OTpGmuhRDjfoex+l+XqRg/IcUMmtZjSlNFgbD/7/AIY8zWYgtIiS0aA2R+0fHb6/jhjFOVeONUAEgLvt+1/L+WFS8EaRnZSFXWQt+O/6Ya/jKsDjM3kevl/NsdpmlqLHhESINv8AGex3jtfFGf4UgQyxSBl8vHC/7HJ/+N/+g47MwNE5VtiMGrx6UeKH6f64yD/pmY+ICh6C97z5crYtHihRpIbubW5bb+eG/wBt4XB/dwy5px96YgJ+Ff8AjhVxrj7zqE5UMcam1SJKrav4+FY0Evs/lciiNnmeWZhYgjOwH7x2/GwO9A1g32fzmQzsv2Y5BY9QOl0qxQPcgAjt3s71iVlZhokLPIezjKWpRT/3CJUqhZOsnlzKhiAYv8K7c8YPh+SeeRIYxbMaUfx9NhZ+WNRPw7h2Ufl5hpsxKPiWKlRT5XYJP1+gwpimORzxKU/IlYC/vAEgg+RokfPDrP8AGeFSSGc5bMa2Opk1AIW8Sae9z5fhgKIUAgxI64ozlStUdNIc02UGUgGSbSTECIPKTv2B9quBwxww5rLl+TNY0SVqUi/Lw2Pie3c3htxbM5HOiKd8yYWSMI0RQtVfs1533F9h2wh4nxHMZ5lRIqSMUkUQ6UHqPp3NDAPDIYeYy5lpI1W7CLbEg1p37H19Md1w5Cix9BOOrQbw1as58RNREQzBWtBBB1GIGqBfY2ksPaPi8cqRZaBXEMQOkvWpyTZNDYfL17DtgDhPCjPqYyxRItamleqvtQ7nDgcZH91kMrpJHx6OZMw/Oh+I+WM/mshJEwWWN4ye3MQr9e24+WBcDXqN/oO18Ny5fwzRXgO4khnMmSzL1JP+6CbgRGGHEo8nGhSJ5ZZf/wAhASMb70vxH6/jgrJ+0IMcUMuWjmMW0ZJawD90hfjHph/nsk+VeODK5JJgVBM8sJk1k96bZVX0v+ZRe1Eq5fOastUbBBqEdaUkIIdV8K7fXDWBpcQtyIj998R5evTzJCQWmWVi99hM6L0wQYgb3EA4hxzJ5pwczmOXD0AIjHQSB2WOPuK8jjTcLzInOXMGYljEUaA5WIGyUPXtYjIf9tthe+MXlOHT5pjISSPvSysQo+bn9BeDchnocrJJHr50UkRikaLpI1HfQT3qu/Y3gqVTSZIgHmff2GBzWWFSkaIYGogMKoEKCACIbUOUiSrMbCJMee0XCp45HLqI4p5mK045QJbsSCVBUefkfLA00MEK7TGWYbjlAcpSCPvPu/0FYu4pxKMxDLZaNxGZA7GUguzVpGy9IFeXf9VceRlaQRBG1t2UiifxrywioQG4RPvli7LLU8NTUbQokxZZAgy0lo/3AMe7CSuHee9pFcSusAWeZGSSTWxBDVqpPC68Sa8MLOC8N50qRltIYkXXiATpF7azVCzi3NZKODTqdJZAw1RxklQviC4I6vCh2w1iXnw8yZnjhSTlpDlo76yt3pvT2Pckk2a9TCtUfjuen7nbCWelQozlwQrQNXETIEKFUgs0AcOywN7nFHEOFxQKkxjzCguVMWYpGalvWNIsLex28urA/KllBlVY8vEFKkg8pGF/Dfdyfrv5YK4gwy0jRugnmFaXlJYBCAU92erXv2YmsVwZNoWjnzSoV16zA5GtgbthGdlF0aOkGqwZQaoAgfbzP4GEoXFJWLamI4CRJbnwJJPTja4HxjTijJSIvL+zJK89q4byYb6VRbsXsSxwykzIb3MwEVS6hFlE6mkYAXqLFR309/8ALhnLAk8PNSaRWEhjMqZcqxDKDydMPdfvam+QvCjL8NVJvsigc8toMrMdKeIMQWm114ne+msNCshgbe/n88INVK5YuCGWb31CN2llUBVB2C61JkBWMs2zGYlEXLcoukCLmfaNaQldwTHHejMe7PXtbXiMXGi6FGWWdY7uSRVojb+8JVyqg9Q0shr97fDMiRYzzYpcyrkbDJjmIV7uYnWm1BqEjEnY+eFnFcjAyF1ldEUc0wmSMIHoaotGrWkpII2joE7CsPcOLrjKovlidLhSCbFdem55CzgmNIBZVgEkWBYP7Q7tyrOaYDW3LSkdl2DSOFEkoAJ3Yr3+LDfhuQicaVlSZUTW0AKLGLIt9GvU3Lv/AI/fz7YWxwIQedeV1gVErsgaMdmk93IzuCdg4W/DGkzmaCRyO5iaEAPHoMoP/L0daoGr4kjZL8/u48oMS3v8/PHc4xsiKYJtaxO0jTCauRNPTEfE5OpQZ5XU/ZVqJWFLFQPQ+7O0htI0kth06yCdq7Yk2f5CBZJnD7lY8vT1WwJ+0KX1n10ChthTPHNmDcKyRQONblrJah1yEdUrrXYW4G2Cslk2VGC5TTpFJLJl2E7uezJ+yR+1qCoKNXjikmwHr7/jHqtGkFGsyTuoInzYwRINysO0aiWMmF+RyrPKFP8AuwOzLFrSVkNEl7shfN5DXfbGjg4Ll0IeGSIWaR9etmceCPoNeojtz+0njLgXCmVqkipZB1A66qi1ys5Amcn7oXSBvtiqWSJ5Rp2Sj/kRfHY+7gFbIrIXY+WGIkdcBXrvUYhbD+6PXe5m8kSxOx1ERGngz+olYgWAem8vL6m/U7bEg4sz3EAgC3zHL0o8j3+gHc3Z7d8Z0WvIEYk3JvmACkT77Ba0UOhF2VdV98ZvKTSzyTOhoxo4jUGkTuBQ7eZv72GCisicKoZMVQzTZR7Fo3PlAN7gY0HEeNGUBUbp5tM/gQotq9L6R/HxR53jCiZ4mXSGoEg+h6vz74IzuUU5WONH2Yp3He9/H6t9MK+NzhWjLLdPZNeA9e1nvXyxcq6FnaI/nGxlKFOdKgn4rbG0EHpeNu0jfFOk5VS3Q+ogV5EWR/PFJykeY0upCH/ienr9f67YaI0Them1YsRf4s5+uwwn4S0ZE0eoLr2Uny3x6oq6ghgodh33377b4vRmKs9w43PaY27R0G2CuIZ2SFFVWRlYUr1uB/XjiyfKPImX5fwiiTfY7dX64HzeW5umGNgeUnfzJ/r88JxmporQM6+Y/r+GJ69c0mPiAlTABHIjcfPrhtKlqAKQGEm46yASPK9u/XD7N5NZ53ZjUcagMfXc9/rvir+y8m24kNH94fxGO4LHzctLGD1k3v49v1qsDL7MzEWaB+ePPxgOtINquZ+2BUhCUaqV0wBy5TPrONTxTjXC89plzHPikVdJCjw8rpgRZO+xwzyWRZIm+wwJlFYUZ80akr91dyP8xA9MZX/ZdlIpM4TJRKR60B89SjV/lB/j4Yv41wHiWazDcyNiNR021Iovat+1eQvGTSqEpriTjJzGVpiscqKxVFAJ1tI3kBVMAgc9RI3tO4HtF7HzQJ9o5iTxk9TobIJPc97F+N98L+BvlFDPmRK7A9MaUAw8yfn6/jjT54DKZJ+HxEzzyNc3KBdY/hsbDvSV59ztsMYKWMqSCCCO4Ioj6YlrAUnBA/N8bOSarm6DCo53sw4CV5GOUmekgcsaDiHtdKy8qBUy0V/DCNJ+rd/wrGdsk338TjS8P4FAkaz5ycBWGtYojcjj69vp+IxRxbj6PGYMvCkMJ77XI1dix+nqfXHKgYjVVbyHP5cve+Cyz0lbRlacieJthzniMlyNov3IxpshlMx/Z8B4eLdyeeylQ918N7UBv23+HzOBfaKGYZSPLSs2azKy8xtNyGFNJGhmo7knx/RRjK8GnYSonNkjR5FRyjFdiwDdj5eePoHFf7RWf7Nk4+TAlaGVAENgEuzsDZu7Hf0JxVTYVKdp6dcZOapmhmlBKbmoGbhO+zNfVEwAo2ANtjjeEZzOSVlYsxIq0djIVCgd9+4A/ZH4YnmosnArLqOZmIItDpiU+YPdj+I+WO9uszFJm2aLSRQDFezOPiI/IfTGdxK9TSSm5HP9hjXo0PFC1RNMMASoAUk78TC59NM87yMW/aH0BNTaAb02avzrthhwzgUsytIDHHGuxkmfQt+V+JxHhvA5ZVMgASJfikkNIPr4/TDPhvGYPs4y+aSRlSQyI0LKDuNwdXcevfHqNMEjxNuWDzVdgrLl7sCNUAEiZvBKy21pm8mYjBvB8oMnI6yyJG0sPuMyh1oN+4b1ArVW31wx4vw0zZWMHNROUkJ+05iTSD01yo2YFn36ifhsV4UO47lsoxy8MzTRMEVY4oQrCIObXWWFs5NE6f8A5MvzPEEhvJ5qBcx9nZhGwkZBRIamAux2/T1N+kKNB2/OMEeJmWSsmrxPi+FbgAqGQsRN9OpQ+jUSwDDdSmTiyzuubSQyIRpjXZG2uy/7Hy3/ADGHGXyeaDa4ZYMtJKAUy6S8tiK6fd1Vnw1mz6Ya8V4XDNmTDJDmC5UaswlLEgC30D4eWvbc337nCng3tGDPHzY8valUOaMfWFHSHu61V98jYfLHkQUzB9P59x1nB1K9bNUvEprqaAWBhhBFgqyRBKyZHi7RhzBnIs1qj1jS0RT7NJDRSQLvI8tX0uCxku/S8J8mseWD5gzc4MeTz411SRyfFemUUwZBWsHt2wVxLREsk2nLwspvLtl5i0rEHuzajrQjuxrCnM592aNs7zOXpMkcahV1nsLC0VDX8VX5YY5Cm4v9B54Vl6IdD4Z4DAI4CWi/DpEMYKkkvIIPia1GDJs08zCaKWSCJE5cuYduW0zWTVRVrIB2XvXc4ryMTFUV4nhy8hHOzBjJMl2bMrjSqsa9N7s48y3ClzCrNIsg5zlEjysAYJQC23gB/wBxAv5OOKJmtUtZfUzBoZJlLkFOzFIi2237IPjWPKCbn389seapTp/0aZWR14dJFvitrKksZGpQQNFMYHOYKBY8vUzPJ/cGXn0FFJJriKae9aCWH3tse5/ORya25BlmUHVJl4b98BtIuYV9SoDVLo8PHC3I5eKV2hy5kVVjJZx/ez9rRUDAEH9k/XBWf4kcmsMcYDadThJb1xkn76xS8tr7jULFYPXA1Gw64U+XDOKSyahvB1AxcmZJA4VAAktsS0gLhNmMxyH1LIk8xFvIesKx8VY/E6/tEEeWDU9npF1Tzm0A5r0x1m9xblNFkntq1YW5eHcZmdS0bOTQIBd/i/6L7sPlh5k81EsQlzKnrclEKkx8sVtHHzFCeWpvpeJ6S651bbgfk/ycalfXS0ikJb4WYAEn/YtxEQTAA02O+oFtwTOHpWRZgx96kSSlY44UrRfvVKb79Wr0HhhnmeLLHJyyr28RlkJkpES+ttvwHuwzbWThNJxOGKQEQymaUXRa3Ov4V18y1WgNtGrthDP1OMszIWD65pi92QKPU2/SNq8Ti0gKL+Xr07d8Y1PJCs5Y8IietryRDGQDGk3LE77w+m4w2aUBU7ye7QguZHHi7GgY1G5vx02cVSQmJkZm1SAnMTkbv0/CLYL0+AU/Ne2LPZ0KfeaSClplwdKho1HgCfjO9vTYnmIV0M2kSNOQQIz0Bz8I6dgi9yXbc304ciThp8NHKBQB03ubG5MwBxSYmoLyoGn3P5x1yLyE62n3Jv8Au1fYKPEhe3zvAHB50jybGRKDauxotYr8T2HoDiHtnmk0KnZ7+EdqAq6714C/wwiyeYZsvLHuapx5AXvgfEC1tPYn8x12GNDLZXXlgTaWBPl8IjlaZB25bxjQ8Zz7CCjTHQotfM/e9APD1wjyD82Jkk2VTr1+V+A8yf44p4K5bXFVhx+FeJwbzI8uuhveaiJFI7Hyv9fHDVqipFWYSCD0mdvXt5c8VrSFEGkolpBEfcchF/veMdnM7yCIKDIK3PfSe6YB4rkVoSxG0bavEHy/0xHjeVYHmatSvuG/h/LFnszHchJ30jUB69sIqMatY5ZxY7dum24jDkC06QrKdt+/7Ge3mMBPBLCQxDJ5H+v0wyjm+1tGjKAw3Zh4qMEw5p5MtM0u4+7t4+Q+RrAXs2wSUF9gwKBj2vbx+mASmEdFUnQ+4P8A1An06d8ddmZHYrxpIBHly589r3GG2Xhy8hdIbSROzLtf57i/PCOTi2YUlTI+2HuS4aMu8kzMNNHT8jvv6+GM09uS1Hck/nh2YLhBPC0mwtbkbemAyoV2YLxLaCb35iT9uX1IuVzDRsHRirDcMpoj643vs1NmM1HLPm8zP9mhHUqNRcgWR01tpr52MdjsYGSY69++O/q6KaIMCSyrMAkBjeCQYPT/AKwJL7dzAiPKQRQxg0qiPUx/hZ8gPqcXf7SmDR5RpVVc20YMgHgK7H/N2/z48x2Gs7NSYnEb5WjQz+XWkoE6yTzMKdyd+84wgGNLw/2W0oJs7J9ni8FP96/oqHt+BPpjsdhWXpqVZyJgTin9UzVWm9KkhjWYJ5gSu0259PLC7jeegcquXhEcaWATu734t/R/hil+MZgpyzPKU7aeY1V5V5enbHY7CPEbUb/jGimXphQkTpuJuZ6yZv3wLDCzsFVSzHYACyfphhnuHNlXj5oRm+Joruv3Wrz/AJ9/HsdhioPDL87Ylq5h/wDVpQ/tYMT1+fL0jHnFOMTZkhW2UbJDGKQeAAUdzgjNcD5EOvMPolYe7hG7/Nh90f16Y7HYYvErVGucJqt4NejlqMKp1Gw/x85358+hGCofa+caemEyKulZWiBlA/x3+oxPMZaGBW5v+8ZuX7gJZYy3iSOppCTdD/U9jsNpVGdZa8QPnbHKuWpUqwSkNIYMzRadMQJ3CySSFgY9zWT4jHBpl53IAGpA96U9UDXprwO3ywHxHiaaPs+WQrFY1MR7yU+Bb0vsg/0x2OwyuCkKDuB5+XliT9JrDO02rVFUFWMACATbiI5kciTbcQb48lypyhjkfltMeswsL0iti4v4r304jlyMxMZM1KVWi5Y/E1fdTw9PTHY7ANaoU5D3fFeWdq+XWsxh3tI3AJ2HlymeRMkA4b5UB1edZHyuXL8pUh1F3YLe4DAE6e7H5epa5iHMo8ejLpK8cCCOcq68tK6QyM+lZB5d9x547HYvQnSO9/vjCztTTU1EAgFlgzsuhbkEMZDGZYg25Wxl+JyLFEMuIyJDTTNIo1X+yv7g72O+JcC4ZFJG8khFhwgj5qR7Vet2bfT4bC8e47EtICpmNDbCbeWNXNVXo/pprqTqOljc3LRPcDlwkQAIwTnctHLO/vSYIIxb6gaAGyR7AG22BrfBOSyqThMzLJuHAoPGiRKhFatV0PEIo/XHY7FVFQzX53+oA+XLE2edqNFtJ+GFHKxQsdo+IwWiJgcpkWYANmcxqkcgssT7gkt2fUK7D/67YCiYpl2Yr1THQGNfAD1eu52x5jsA40yRyE+rG/7Y00XiCEyNWn0RZH1EkbGTa+GmY4gY4ssrHZkXWEABMQOyX8W4va/PEuP8XdW5KWg2I3+HxCqF2UD0747HYoqVGVWA5afqBhOVoU3amxUX1+VmEW9Y9BzE4Ve0qkyGQA6GqmrYmvPx+eKeBatTKBYZCDewA8zjsdhZSM+sHe/0NsUI05S42EfI299sMooosurK7WJACGQd18vr/HC/j6vrDMKBA014Dyx2Ow/MAeDUQWCaY9b39TjlCdSObltU+nTpt+2K8lmmdfs5I0sdifD5Yj7zKy+o/BhjsdiIFmyvjEnUpAB7dPfltbDyQK3hwIYEnzw0y2ebNSLGwCoOsqPGv9Tg3J8UEsrwFBoogbeXn88djsW0MxUZaZJuxM+QBgYir0kHiACyqCN7E3JxmuI2rtHqJVWIAJw34Wy8pe3j+px5jsJyrkZtx5//AGGLqo1UVJ7fbH//2Q==)"
      ],
      "metadata": {
        "id": "V3RObwwxYLjs"
      }
    },
    {
      "cell_type": "markdown",
      "source": [
        "#To Decimal"
      ],
      "metadata": {
        "id": "7xGoN-eEYOgs"
      }
    },
    {
      "cell_type": "markdown",
      "source": [
        "Convert the number 240367 into base ten\n",
        "\n"
      ],
      "metadata": {
        "id": "nXAIMSYDYyjB"
      }
    },
    {
      "cell_type": "markdown",
      "source": [
        "To convert to decimal I will make use of the 'int function'"
      ],
      "metadata": {
        "id": "X6c9Y_fRYXOz"
      }
    },
    {
      "cell_type": "code",
      "source": [
        "T= int('24036', 7) ##convert the number \n",
        "print (T)"
      ],
      "metadata": {
        "colab": {
          "base_uri": "https://localhost:8080/"
        },
        "id": "GCfkiht1Ypmi",
        "outputId": "39ed6de8-bff7-455d-aa2d-6454a82895da"
      },
      "execution_count": 1,
      "outputs": [
        {
          "output_type": "stream",
          "name": "stdout",
          "text": [
            "6201\n"
          ]
        }
      ]
    },
    {
      "cell_type": "markdown",
      "source": [
        "Convert the hexadecimal number 72e3 or 0x72e3 into base ten.\n"
      ],
      "metadata": {
        "id": "GO0ifqnnY4-Y"
      }
    },
    {
      "cell_type": "code",
      "source": [
        "S= int('72e3', 16)## convert the hexadecimal number 72e3\n",
        "print (S)"
      ],
      "metadata": {
        "colab": {
          "base_uri": "https://localhost:8080/"
        },
        "id": "cLKSwRm6ZLVH",
        "outputId": "07eee95e-5c3d-453c-99df-715eb751e9c8"
      },
      "execution_count": 2,
      "outputs": [
        {
          "output_type": "stream",
          "name": "stdout",
          "text": [
            "29411\n"
          ]
        }
      ]
    },
    {
      "cell_type": "markdown",
      "source": [
        "#TO HEXADECIMAL"
      ],
      "metadata": {
        "id": "FQdh71CtbES4"
      }
    },
    {
      "cell_type": "markdown",
      "source": [
        "Convert 3735928559 into hexadecimal.\n"
      ],
      "metadata": {
        "id": "bVVDPlBkZT9Y"
      }
    },
    {
      "cell_type": "code",
      "source": [
        "hex(3735928559)"
      ],
      "metadata": {
        "colab": {
          "base_uri": "https://localhost:8080/",
          "height": 35
        },
        "id": "uM5U__bpZuTw",
        "outputId": "fd3abfaa-d6e8-4aba-d5bf-e6fba1b310c7"
      },
      "execution_count": 3,
      "outputs": [
        {
          "output_type": "execute_result",
          "data": {
            "application/vnd.google.colaboratory.intrinsic+json": {
              "type": "string"
            },
            "text/plain": [
              "'0xdeadbeef'"
            ]
          },
          "metadata": {},
          "execution_count": 3
        }
      ]
    },
    {
      "cell_type": "markdown",
      "source": [
        "The above is an easy to convert into hexadecimal. I am going to try something else below. "
      ],
      "metadata": {
        "id": "Bb1XEnudZ0Yn"
      }
    },
    {
      "cell_type": "code",
      "source": [
        "from math import floor\n",
        "\n",
        "total = ''\n",
        "count = 0\n",
        "number = 3735928559\n",
        "\n",
        "def convert(number):\n",
        "  m = number % 16\n",
        "  h = ''\n",
        "  if m == 10:\n",
        "    h = 'A'\n",
        "  elif m == 11:\n",
        "    h = 'B'\n",
        "  elif m == 12:\n",
        "    h = 'C'\n",
        "  elif m == 13:\n",
        "    h = 'D'\n",
        "  elif m == 14:\n",
        "    h = 'E'\n",
        "  elif m == 15:\n",
        "    h = 'F'\n",
        "  else:\n",
        "    h = str(m)\n",
        "  return h\n",
        "\n",
        "while number > 16:\n",
        "  total = convert(number) + total\n",
        "  number = floor(number/16)\n",
        "\n",
        "total = convert(number) + total\n",
        "\n",
        "total"
      ],
      "metadata": {
        "colab": {
          "base_uri": "https://localhost:8080/",
          "height": 35
        },
        "id": "Q7rsntUCaTqG",
        "outputId": "fca91ff5-682f-498b-b541-2b5d639def6e"
      },
      "execution_count": 8,
      "outputs": [
        {
          "output_type": "execute_result",
          "data": {
            "application/vnd.google.colaboratory.intrinsic+json": {
              "type": "string"
            },
            "text/plain": [
              "'DEADBEEF'"
            ]
          },
          "metadata": {},
          "execution_count": 8
        }
      ]
    },
    {
      "cell_type": "markdown",
      "source": [
        "#Using TWO COMPLEMENT"
      ],
      "metadata": {
        "id": "ZR5S2kEBbJgz"
      }
    },
    {
      "cell_type": "code",
      "source": [
        "def Subtract(T,S):\n",
        "\t\n",
        "\tU = T + (~S + 1)\n",
        "\treturn U\n",
        "\n",
        "\n",
        "\n",
        "\tT,S = 25,37\n",
        "\tprint(Subtract(T,S))\n"
      ],
      "metadata": {
        "id": "GMz5iBE_bNUV"
      },
      "execution_count": 9,
      "outputs": []
    },
    {
      "cell_type": "code",
      "source": [
        "25-37"
      ],
      "metadata": {
        "colab": {
          "base_uri": "https://localhost:8080/"
        },
        "id": "yN1QAKK9b9u3",
        "outputId": "c62d2883-9949-4b9d-9d79-29631ac832b0"
      },
      "execution_count": 10,
      "outputs": [
        {
          "output_type": "execute_result",
          "data": {
            "text/plain": [
              "-12"
            ]
          },
          "metadata": {},
          "execution_count": 10
        }
      ]
    },
    {
      "cell_type": "markdown",
      "source": [
        "#Findings"
      ],
      "metadata": {
        "id": "vpUJ4O0bcn9J"
      }
    },
    {
      "cell_type": "markdown",
      "source": [
        "This project was easy to do and I realized how we can use inbuilt functions to convert  numbers. "
      ],
      "metadata": {
        "id": "7aN2P0DIcqyr"
      }
    },
    {
      "cell_type": "markdown",
      "source": [
        "#Why binary and hexadecimal are important to computers."
      ],
      "metadata": {
        "id": "cUuDD26ldBrq"
      }
    },
    {
      "cell_type": "markdown",
      "source": [
        "* Computers do not use hexadecimals, they use only binary.\n",
        "* Binary numbers simplify the design of computers"
      ],
      "metadata": {
        "id": "AjpsY41IdZ1m"
      }
    }
  ]
}