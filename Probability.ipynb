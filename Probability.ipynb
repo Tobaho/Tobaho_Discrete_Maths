{
  "nbformat": 4,
  "nbformat_minor": 0,
  "metadata": {
    "colab": {
      "name": "Probability",
      "provenance": [],
      "authorship_tag": "ABX9TyOJgZC9DMqvXyZX2oULiU5I",
      "include_colab_link": true
    },
    "kernelspec": {
      "name": "python3",
      "display_name": "Python 3"
    },
    "language_info": {
      "name": "python"
    }
  },
  "cells": [
    {
      "cell_type": "markdown",
      "metadata": {
        "id": "view-in-github",
        "colab_type": "text"
      },
      "source": [
        "<a href=\"https://colab.research.google.com/github/Tobaho/Tobaho_Discrete_Maths/blob/main/Probability.ipynb\" target=\"_parent\"><img src=\"https://colab.research.google.com/assets/colab-badge.svg\" alt=\"Open In Colab\"/></a>"
      ]
    },
    {
      "cell_type": "markdown",
      "source": [
        "# Project Part # 3: CPSMA 3133 Discrete Mathematics \n",
        "\n",
        "## Probability\n",
        "\n",
        "### OLUWATOBI AFOLABI \n",
        "\n",
        "### Instructor: Dr. Jacob"
      ],
      "metadata": {
        "id": "0WYAn0VS7bWK"
      }
    },
    {
      "cell_type": "markdown",
      "source": [
        "## Probability"
      ],
      "metadata": {
        "id": "51rtd6bC7jXN"
      }
    },
    {
      "cell_type": "markdown",
      "source": [
        "![download 1.jpg](data:image/jpeg;base64,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)"
      ],
      "metadata": {
        "id": "BtAcUWdD7-yt"
      }
    },
    {
      "cell_type": "markdown",
      "source": [
        "I will be making use of my favorit colors. In a basket, there are 9 yellow balls, 4 blue balls and 7 orange balls in a basket. "
      ],
      "metadata": {
        "id": "ZZd2hwEc7lDz"
      }
    },
    {
      "cell_type": "markdown",
      "source": [
        "The probability of picking a yellow out of the basket is 9/20\n"
      ],
      "metadata": {
        "id": "qmwbR83g8iOX"
      }
    },
    {
      "cell_type": "markdown",
      "source": [
        "The probability of picking a blue ball is 4/20"
      ],
      "metadata": {
        "id": "lp2yjLeB8vg_"
      }
    },
    {
      "cell_type": "markdown",
      "source": [
        "The probability of picking a orange ball is 7/20"
      ],
      "metadata": {
        "id": "fq1DGItw80AV"
      }
    },
    {
      "cell_type": "code",
      "source": [
        "p=[9/20,4/20,7/20]\n",
        "sum(p)"
      ],
      "metadata": {
        "colab": {
          "base_uri": "https://localhost:8080/"
        },
        "id": "cbLvu_xm9EaW",
        "outputId": "99b7e42a-73ea-4e9d-c1da-dae92cfcfddb"
      },
      "execution_count": 3,
      "outputs": [
        {
          "output_type": "execute_result",
          "data": {
            "text/plain": [
              "1.0"
            ]
          },
          "metadata": {},
          "execution_count": 3
        }
      ]
    },
    {
      "cell_type": "markdown",
      "source": [
        "To see if the compound will roll, I will call this \"RL\""
      ],
      "metadata": {
        "id": "RgOq4HDn9uR3"
      }
    },
    {
      "cell_type": "code",
      "source": [
        "ProbabilityRR = 0\n",
        "\n",
        "for i in [0,2]:\n",
        "  ProbabilityRL = ProbabilityRR + p[i]\n",
        "\n",
        "ProbabilityRL"
      ],
      "metadata": {
        "colab": {
          "base_uri": "https://localhost:8080/"
        },
        "id": "NtBEL18Z9_RX",
        "outputId": "4eeeeb86-e0b8-412c-85b7-6cc0a64ca4fb"
      },
      "execution_count": 4,
      "outputs": [
        {
          "output_type": "execute_result",
          "data": {
            "text/plain": [
              "0.35"
            ]
          },
          "metadata": {},
          "execution_count": 4
        }
      ]
    },
    {
      "cell_type": "markdown",
      "source": [
        "I'll examine both the intersetion, $O\\cap B$  and union, $O\\cup B$.\n"
      ],
      "metadata": {
        "id": "b6O_1w5_AQyE"
      }
    },
    {
      "cell_type": "markdown",
      "source": [
        "Here's the probability to get a orange ball out of the basket, and also get a blue ball or a yellow ball again."
      ],
      "metadata": {
        "id": "1ln3SWi6EWFm"
      }
    },
    {
      "cell_type": "code",
      "source": [
        "intersection = p[0]*ProbabilityRL\n",
        "intersection"
      ],
      "metadata": {
        "colab": {
          "base_uri": "https://localhost:8080/"
        },
        "id": "YWHF5N0fCpOC",
        "outputId": "42ac8a76-629e-44b4-9434-0459c0562be7"
      },
      "execution_count": 8,
      "outputs": [
        {
          "output_type": "execute_result",
          "data": {
            "text/plain": [
              "0.1575"
            ]
          },
          "metadata": {},
          "execution_count": 8
        }
      ]
    },
    {
      "cell_type": "markdown",
      "source": [
        "What is the probability that I will pick out an orange ball the first time and would pick a blue ball or an orange ball the second time.\n"
      ],
      "metadata": {
        "id": "kKXmnpFOBa6a"
      }
    },
    {
      "cell_type": "markdown",
      "source": [
        "\n",
        "\n",
        "$$\n",
        "P(O|B:)=\\frac{P(O\\cap B}{P(O)}\n",
        "$$"
      ],
      "metadata": {
        "id": "-qLsOfsTBPPH"
      }
    },
    {
      "cell_type": "code",
      "source": [
        "OB = intersection/p[0]\n",
        "OB"
      ],
      "metadata": {
        "colab": {
          "base_uri": "https://localhost:8080/"
        },
        "id": "dFdy42lZCAL6",
        "outputId": "eaac5537-0457-4bb2-ebb4-9c9d02a6d353"
      },
      "execution_count": 9,
      "outputs": [
        {
          "output_type": "execute_result",
          "data": {
            "text/plain": [
              "0.35"
            ]
          },
          "metadata": {},
          "execution_count": 9
        }
      ]
    },
    {
      "cell_type": "markdown",
      "source": [
        "The probability of getting a orange ball, given either the blue ball or the orange ball was picked out of the basket first. "
      ],
      "metadata": {
        "id": "c1Pv_jaTE6xM"
      }
    },
    {
      "cell_type": "code",
      "source": [
        "BO= intersection/ProbabilityRL\n",
        "BO"
      ],
      "metadata": {
        "colab": {
          "base_uri": "https://localhost:8080/"
        },
        "id": "XLvw12XyFMqg",
        "outputId": "f204c93e-fb59-4ec2-9e13-61ac5890f9f8"
      },
      "execution_count": 10,
      "outputs": [
        {
          "output_type": "execute_result",
          "data": {
            "text/plain": [
              "0.45"
            ]
          },
          "metadata": {},
          "execution_count": 10
        }
      ]
    },
    {
      "cell_type": "markdown",
      "source": [
        "Using Bayes formula, to compare results from above"
      ],
      "metadata": {
        "id": "Tpli_183Fj6N"
      }
    },
    {
      "cell_type": "markdown",
      "source": [
        "$$\n",
        "P(O|B) = \\frac{P(O)P(B|O)}{P(B)}\n",
        "$$"
      ],
      "metadata": {
        "id": "cFvak3SGGz8-"
      }
    },
    {
      "cell_type": "markdown",
      "source": [
        "It should return true if they are equal"
      ],
      "metadata": {
        "id": "SoLfunD0HWhD"
      }
    },
    {
      "cell_type": "code",
      "source": [
        "BO ==(p[0]* OB)/ProbabilityRL"
      ],
      "metadata": {
        "colab": {
          "base_uri": "https://localhost:8080/"
        },
        "id": "Bdm4HtKNHaB3",
        "outputId": "155d59c1-2c96-49e5-d889-715372dca019"
      },
      "execution_count": 17,
      "outputs": [
        {
          "output_type": "execute_result",
          "data": {
            "text/plain": [
              "True"
            ]
          },
          "metadata": {},
          "execution_count": 17
        }
      ]
    },
    {
      "cell_type": "markdown",
      "source": [
        "##COMPLEMENT"
      ],
      "metadata": {
        "id": "F5WPmnaAH1GZ"
      }
    },
    {
      "cell_type": "markdown",
      "source": [
        "To get the complement of getting a orange ball, I am going to deduct the probability of getting a orange form 1"
      ],
      "metadata": {
        "id": "NbNO41eSIEeB"
      }
    },
    {
      "cell_type": "code",
      "source": [
        "complement = 1 - p[0]\n",
        "complement"
      ],
      "metadata": {
        "colab": {
          "base_uri": "https://localhost:8080/"
        },
        "id": "yW29pgWLIRbQ",
        "outputId": "a909681a-96ca-4b66-dd3c-76ac558bedcf"
      },
      "execution_count": 16,
      "outputs": [
        {
          "output_type": "execute_result",
          "data": {
            "text/plain": [
              "0.55"
            ]
          },
          "metadata": {},
          "execution_count": 16
        }
      ]
    },
    {
      "cell_type": "markdown",
      "source": [
        "#STIMULATION"
      ],
      "metadata": {
        "id": "4x-s8as5J3kR"
      }
    },
    {
      "cell_type": "markdown",
      "source": [
        "\n",
        "To stimulate, I will multiply every probability by 8. "
      ],
      "metadata": {
        "id": "47orFd0EJ6K9"
      }
    },
    {
      "cell_type": "code",
      "source": [
        "p8 = [8*i for i in p]\n",
        "p =[9/20,4/20,7/20]"
      ],
      "metadata": {
        "id": "qlRGPo1nKFdL"
      },
      "execution_count": 18,
      "outputs": []
    },
    {
      "cell_type": "code",
      "source": [
        "p8 = [8*i for i in p]\n",
        "p =[9/20,4/20,7/20]\n",
        "\n",
        "p"
      ],
      "metadata": {
        "colab": {
          "base_uri": "https://localhost:8080/"
        },
        "id": "BnkjrJHUKz16",
        "outputId": "1569b323-846c-4aa3-d18a-d5204abc18f7"
      },
      "execution_count": 22,
      "outputs": [
        {
          "output_type": "execute_result",
          "data": {
            "text/plain": [
              "[0.45, 0.2, 0.35]"
            ]
          },
          "metadata": {},
          "execution_count": 22
        }
      ]
    },
    {
      "cell_type": "code",
      "source": [
        "from random import choices\n",
        "balls =  choices(['Yellow','Orange','BLue'],p8,k=10)\n",
        "print(balls)\n",
        "\n",
        "cYellow = 0\n",
        "cOrange = 0\n",
        "cOther = 0\n",
        "\n",
        "for i in balls:\n",
        "  if i =='Yellow':\n",
        "    cYellow += 1\n",
        "  elif i == 'Orange':\n",
        "    cOrange += 1\n",
        "  elif i == 'Other':\n",
        "    cOther += 1\n",
        "\n",
        "estProbability = [cYellow/len(balls),cOrange/len(balls),cOther/len(balls)]\n",
        "estProbability"
      ],
      "metadata": {
        "colab": {
          "base_uri": "https://localhost:8080/"
        },
        "id": "RncFskMZLXME",
        "outputId": "67042adb-4c78-4455-b38a-ea44ea16ac7e"
      },
      "execution_count": 24,
      "outputs": [
        {
          "output_type": "stream",
          "name": "stdout",
          "text": [
            "['Yellow', 'Yellow', 'BLue', 'BLue', 'Yellow', 'Yellow', 'BLue', 'Yellow', 'Orange', 'BLue']\n"
          ]
        },
        {
          "output_type": "execute_result",
          "data": {
            "text/plain": [
              "[0.5, 0.1, 0.0]"
            ]
          },
          "metadata": {},
          "execution_count": 24
        }
      ]
    },
    {
      "cell_type": "markdown",
      "source": [
        "#Findings"
      ],
      "metadata": {
        "id": "qOw3YwRKN8Gj"
      }
    },
    {
      "cell_type": "markdown",
      "source": [
        "Anytime, I write in a code to calculate the probability, I get different results. I had difficulty writing this code, even though it looked easy at first. I would prefer calculating probability by hand. "
      ],
      "metadata": {
        "id": "L8CS8LmoN-R8"
      }
    }
  ]
}