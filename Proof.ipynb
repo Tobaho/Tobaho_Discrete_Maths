{
  "nbformat": 4,
  "nbformat_minor": 0,
  "metadata": {
    "colab": {
      "name": "Proof",
      "provenance": [],
      "authorship_tag": "ABX9TyMpVyB+fjBIfREhtZcvCD8T",
      "include_colab_link": true
    },
    "kernelspec": {
      "name": "python3",
      "display_name": "Python 3"
    },
    "language_info": {
      "name": "python"
    }
  },
  "cells": [
    {
      "cell_type": "markdown",
      "metadata": {
        "id": "view-in-github",
        "colab_type": "text"
      },
      "source": [
        "<a href=\"https://colab.research.google.com/github/Tobaho/Tobaho_Discrete_Maths/blob/main/Proof.ipynb\" target=\"_parent\"><img src=\"https://colab.research.google.com/assets/colab-badge.svg\" alt=\"Open In Colab\"/></a>"
      ]
    },
    {
      "cell_type": "markdown",
      "source": [
        "# Project Part 1 : CPSMA 3133 Dr. Jacob's\n",
        "\n",
        "## Proof\n",
        "\n",
        "###Oluwatobi Afolabi\n"
      ],
      "metadata": {
        "id": "yA9SCTh7sq7m"
      }
    },
    {
      "cell_type": "markdown",
      "source": [
        "For this part of the project I will be working on proofs. I will start by creating a linear equation y= mx+b "
      ],
      "metadata": {
        "id": "DiS16WHktBFu"
      }
    },
    {
      "cell_type": "markdown",
      "source": [
        "\n",
        "I am going to prove that the roots of \n",
        "$$ y = x^2+4x-5$$\n",
        "are $(-5,0)$ and $(1,0)$.\n",
        "\n"
      ],
      "metadata": {
        "id": "wCqxMA_Ktezj"
      }
    },
    {
      "cell_type": "code",
      "source": [
        "import matplotlib.pyplot as plt\n",
        "import numpy as np\n",
        "\n",
        "x = np.arange(-6,2,.1)\n",
        "plt.plot(x,x**2+4*x-5)\n",
        "plt.scatter(1,0, c='yellow',s = 40)\n",
        "plt.scatter(-5,0, c='yellow',s = 40)\n",
        "plt.show()"
      ],
      "metadata": {
        "colab": {
          "base_uri": "https://localhost:8080/",
          "height": 265
        },
        "id": "klH6nCcM0G4d",
        "outputId": "0bd9d100-d3a6-4ffa-f0d3-21c6a7454f67"
      },
      "execution_count": 42,
      "outputs": [
        {
          "output_type": "display_data",
          "data": {
            "image/png": "[encoded data removed]",
            "text/plain": [
              "<Figure size 432x288 with 1 Axes>"
            ]
          },
          "metadata": {
            "needs_background": "light"
          }
        }
      ]
    },
    {
      "cell_type": "markdown",
      "source": [
        "TO check that (-5,0) and (1,0) are roots, i'll do this\n",
        "$0 = 1^2+4*1-5$? using python"
      ],
      "metadata": {
        "id": "iZ0e7HlI5pwg"
      }
    },
    {
      "cell_type": "code",
      "source": [
        "0 == 1**2+4*1-5"
      ],
      "metadata": {
        "colab": {
          "base_uri": "https://localhost:8080/"
        },
        "id": "YuvNuTlc6Xj3",
        "outputId": "abab262e-6cb3-4772-bc3e-7d91e6321386"
      },
      "execution_count": 37,
      "outputs": [
        {
          "output_type": "execute_result",
          "data": {
            "text/plain": [
              "True"
            ]
          },
          "metadata": {},
          "execution_count": 37
        }
      ]
    },
    {
      "cell_type": "markdown",
      "source": [
        "I'll do the same for $0 = (-5)^2+4*(-5)-5$? using python"
      ],
      "metadata": {
        "id": "2BbBPeex7qij"
      }
    },
    {
      "cell_type": "code",
      "source": [
        "0 == (-5)**2+4*(-5)-5"
      ],
      "metadata": {
        "colab": {
          "base_uri": "https://localhost:8080/"
        },
        "id": "ceZGzTkr6nMy",
        "outputId": "28314859-d801-4a69-f61f-798ae5be73f8"
      },
      "execution_count": 41,
      "outputs": [
        {
          "output_type": "execute_result",
          "data": {
            "text/plain": [
              "True"
            ]
          },
          "metadata": {},
          "execution_count": 41
        }
      ]
    },
    {
      "cell_type": "markdown",
      "source": [
        "This proofs that 1 and -5 are both roots of $$ y = x^2+4x-5$$"
      ],
      "metadata": {
        "id": "K9UIKAyZ6qmd"
      }
    },
    {
      "cell_type": "markdown",
      "source": [
        "#Findings"
      ],
      "metadata": {
        "id": "GwmT653Z7L9H"
      }
    },
    {
      "cell_type": "markdown",
      "source": [
        "It is quite amazing the number of things one can do with python. I am glad I was able to pick one or two from this class. "
      ],
      "metadata": {
        "id": "yTmkWjAa7T_v"
      }
    }
  ]
}